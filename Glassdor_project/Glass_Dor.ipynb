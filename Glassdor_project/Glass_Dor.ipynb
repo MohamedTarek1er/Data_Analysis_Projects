{
  "nbformat": 4,
  "nbformat_minor": 0,
  "metadata": {
    "colab": {
      "private_outputs": true,
      "provenance": []
    },
    "kernelspec": {
      "name": "python3",
      "display_name": "Python 3"
    },
    "language_info": {
      "name": "python"
    }
  },
  "cells": [
    {
      "cell_type": "markdown",
      "source": [
        "# <p style=\"background-color:#682F2F;font-family:newtimeroman;color:#FFF9ED;font-size:90%;text-align:center;border-radius:10px; border: 2px solid #FFA500; padding: 10px;\">Data Science Salary Prediction (Glassdoor)</p>\n",
        "\n",
        "<center><img src=\"https://github.com/FahadUrRehman07/ds_Salary_proj/blob/main/Data%20Sciene%20Salaries%20Prediction.gif?raw=true\"></center>\n",
        "\n",
        "\n",
        "\n",
        "In this project, I will be using  Machine learning Models such as `Multiple Linear Regression, Lasso Regression and Random Forest` on my own dataset `Data Science Jobs & Salaries` to predict salaries, jobs and more. I will use `GridSearchCV` for tuning the model and `Test Ensembling Techniques`."
      ],
      "metadata": {
        "id": "ULervZJzfcEq"
      }
    },
    {
      "cell_type": "markdown",
      "source": [
        "<a id='top'></a>\n",
        "<p style=\"background-color:#6A5ACD;font-family:Tahoma, Geneva, sans-serif;color:#FFFFFF;font-size:150%;text-align:center;border-radius:10px;padding:10px;\"> 📊 Learn About Data 📈 </p>\n",
        "\n",
        "### `About Dataset`\n",
        "\n",
        "The Data in the dataset is extracted from the Glassdoor website, which is a job posting website. The dataset has data related to data science jobs and salaries and a lot more, offering a clear view of job opportunities. It is packed with essential details like job titles, estimated salaries, job descriptions, company ratings, and key company info such as location, size, and industry. Whether you're job hunting or researching, this dataset helps you understand the job market easily. Start exploring now to make smart career choices!\".\n"
      ],
      "metadata": {
        "id": "wgdQVRvZf9PM"
      }
    },
    {
      "cell_type": "markdown",
      "source": [
        "<h4 style = \"color:orange\">Columns in Dataset:</h4>\n",
        "\n",
        "1. `**Job Title:**`                           _Title of the Job_\n",
        "2. `**Salary Estimate:**`\t        _Estimated salary for the job that the company provides_\n",
        "3. `**Job Description:**`\t        _The description of the job_\n",
        "4. `**Rating:**`                              _Rating of the company_\n",
        "5. `**Company Name:**`               _Name of the Company_\n",
        "6. `**Location:**`                           _Location of the job_\n",
        "7. `**Headquarters:**`                   _Headquarters of the company_\n",
        "8. `**Size:**`                                  _Number of employees in the company_\n",
        "9.  `**Founded:**`                         _The year company founded_\n",
        "10. `**Type of ownership:**`        _Ownership types like private, public, government, and non-profit organizations_\n",
        "11. `**Industry:**`                         _Industry type like `Aerospace, Energy` where the company provides services_\n",
        "12. `**Sector:**`                           _Which type of services company provide in the industry, like industry (Energy), Sector (Oil, Gas)_\n",
        "13. `**Revenue:**`                       _Total revenue of the company_\n",
        "14. `**Competitors:**`                  _Company competitors_\n",
        "\n",
        "\n",
        "<!-- .......................................................................................................................... -->\n",
        "\n",
        "<p style=\"background-color:#20B2AA;font-family:Arial, sans-serif;color:#FFFFFF;font-size:150%;text-align:center;border-radius:10px;padding:10px;border:2px solid #FFFFFF;\"> 🔄 Life Cycle Of Machine Learning Project 🤖 </p>\n",
        "\n",
        "\n",
        "   <ul style=\"font-size: 18px; font-family: 'Segoe UI';\">\n",
        "        <li><strong>Understanding the Problem Statement</strong></li>\n",
        "        <li><strong>Exploratory Data Analysis</strong></li>\n",
        "        <li><strong>Data Pre-Processing</strong></li>\n",
        "        <li><strong>Model Training</strong></li>\n",
        "        <li><strong>Choose Best Model</strong></li>\n",
        "        <li><strong>Model Tuning</strong></li>\n",
        "        <li><strong>Test Ensembling</strong></li>\n",
        "        <li><strong>Putting Model into Productino</strong></li>\n",
        "    </ul>\n",
        "\n",
        "\n",
        "<!-- >>>>>>>>>>>>>>>>>>>>>>>>>>>>>>>>>>>>>>>>>>>>>>>>>>>>>>>>>>>>>>>>>>>>>>>>>>>>>>>>>>>>>>>>>>>>>>>>>>>>>>>>>>>>>>>>>>>>>>>>>>>>>>>>>>>>>>>>>>>>>>>>>>>>>>>>>>>>>>>>>>>>>>>>>>>>>>>>>>>>>>>>>>>>>> -->\n",
        "\n",
        "\n",
        "\n",
        "\n",
        "<a id='top'></a>\n",
        "\n",
        "<p style=\"background-color: #4cbb17; font-family: Arial, sans-serif; color: #ffffff; font-size: 24px; text-align: center; padding: 10px; border-radius: 10px;\">📋 TABLE OF CONTENTS 📋</p>\n",
        "   \n",
        "    \n",
        "* [1. IMPORTING LIBRARIES](#1)\n",
        "    \n",
        "* [2. LOADING DATA](#2)\n",
        "\n",
        "* [4. DATA CLEANING](#data_cleaning)\n",
        "\n",
        "* [3. Exploratory Data Analysis](#EDA)\n",
        "    \n",
        "* [5. Model Building](#ModelBuilding)   \n",
        "    \n",
        "* [6. TUNING BY GRIDSEARCHCV](#Tuning)\n",
        "      \n",
        "* [7. TEST ENSEMBLING](#ensembles)\n",
        "    \n",
        "* [8. PUTTING MODEL INTO PRODUCTION](#production)\n",
        "\n",
        "\n",
        "\n",
        "\n",
        "\n",
        "\n",
        "\n",
        "\n"
      ],
      "metadata": {
        "id": "3K_CYWGpgBYK"
      }
    },
    {
      "cell_type": "markdown",
      "source": [
        "# <p style=\"background-color:#6b5b95; font-family:newtimeroman;color:#FFF9ED; font-size:150%; text-align:center; border-radius: 15px 50px;\"> ✨ Business Problem ✨</p>"
      ],
      "metadata": {
        "id": "LOn-H0nj1-Fo"
      }
    },
    {
      "cell_type": "markdown",
      "source": [
        "<strong> Before diving into technical aspects of ML projects, the first step is always defining the business (or scientific) problem related to data. </strong>\n",
        "\n",
        "Here, we have a dataset that displays data science salaries with 11 columns.\n",
        "\n",
        "Our purpose is to predict the salary of an employee, using the measurements in the dataset. To be able to predict it correctly, we need to grasp the <b>domain knowledge </b>, which will be provided in the next stages.\n"
      ],
      "metadata": {
        "id": "hEpYu58G2AXE"
      }
    },
    {
      "cell_type": "markdown",
      "source": [
        "<a id='1'></a>\n",
        "\n",
        "# <p style=\"background-color:#682F2F;font-family:newtimeroman;color:#FFF9ED;font-size:80%;text-align:center;border-radius:10px; border: 2px solid #FFA500; padding: 10px;\"><b>1|</b> 📚 IMPORTING LIBRARIES 📚</p>"
      ],
      "metadata": {
        "id": "-caP0zcYgPMy"
      }
    },
    {
      "cell_type": "code",
      "execution_count": null,
      "metadata": {
        "id": "OhHstFsxfMMs"
      },
      "outputs": [],
      "source": [
        "import numpy as np\n",
        "import pandas as pd\n",
        "import matplotlib.pyplot as plt\n",
        "import seaborn as sns\n",
        "import warnings\n",
        "warnings.filterwarnings('ignore')"
      ]
    },
    {
      "cell_type": "markdown",
      "source": [
        "<a id='2'></a>\n",
        "\n",
        "# <p style=\"background-color: #20B2AA; font-family: Arial, sans-serif; color: #FFFFFF; font-size: 80%; text-align: center; border-radius: 10px; padding: 15px; border: 4px solid yellow; border-style: dashed;\"><b>2|</b> 🔄 LOADING DATASET 🤖 </p>\n",
        "\n"
      ],
      "metadata": {
        "id": "cV1rWjq1glVj"
      }
    },
    {
      "cell_type": "code",
      "source": [
        "df=pd.read_csv('/content/glassdoor_jobs.csv')\n",
        "df"
      ],
      "metadata": {
        "id": "JdhUoPfmgUaY"
      },
      "execution_count": null,
      "outputs": []
    },
    {
      "cell_type": "code",
      "source": [
        "df.head()"
      ],
      "metadata": {
        "id": "Fj5Ns2PtjqHK"
      },
      "execution_count": null,
      "outputs": []
    },
    {
      "cell_type": "code",
      "source": [
        "df.info()"
      ],
      "metadata": {
        "id": "qrwrx5V8m9X6"
      },
      "execution_count": null,
      "outputs": []
    },
    {
      "cell_type": "code",
      "source": [
        "def check_data(df):\n",
        "    print(80 * \"*\")\n",
        "    print('DIMENSION: ({}, {})'.format(df.shape[0], df.shape[1]))\n",
        "    print(80 * \"*\")\n",
        "    print(\"COLUMNS:\\n\")\n",
        "    print(df.columns.values)\n",
        "    print(80 * \"*\")\n",
        "    print(\"DATA INFO:\\n\")\n",
        "    print(df.dtypes)\n",
        "    print(80 * \"*\")\n",
        "    print(\"MISSING VALUES:\\n\")\n",
        "    print(df.isnull().sum())\n",
        "    print(80 * \"*\")\n",
        "    print(\"NUMBER OF UNIQUE VALUES:\\n\")\n",
        "    print(df.nunique())\n",
        "\n",
        "check_data(df)"
      ],
      "metadata": {
        "id": "0bjC23_p2KXE"
      },
      "execution_count": null,
      "outputs": []
    },
    {
      "cell_type": "code",
      "source": [
        "df_1=pd.read_csv(\"/content/train (1).csv\")"
      ],
      "metadata": {
        "id": "VX_0SAN4rlSh"
      },
      "execution_count": null,
      "outputs": []
    },
    {
      "cell_type": "code",
      "source": [
        "def data_classification(dataframe,cat_th=7):\n",
        "  cat_cols=[ col for col in  dataframe.columns if dataframe[col].dtype == \"O\" and dataframe[col].nunique() <= cat_th]\n",
        "  num_cols=[col for col in  dataframe.columns if dataframe[col].dtype !=\"O\" and dataframe[col].nunique() > cat_th]\n",
        "  cat_but_car=[col for col in dataframe.columns if dataframe[col].dtype ==\"O\" and dataframe[col].nunique() > cat_th]\n",
        "  num_but_cat=[col for col in dataframe.columns if dataframe[col].dtype !=\"O\" and dataframe[col].nunique()<=cat_th ]\n",
        "  return {\"cat_cols\":cat_cols,\"num_cols\":num_cols,\"cat_but_car\":cat_but_car,\"num_but_cat\":num_but_cat}\n"
      ],
      "metadata": {
        "id": "JOf4VFFInYSC"
      },
      "execution_count": null,
      "outputs": []
    },
    {
      "cell_type": "code",
      "source": [
        "import pandas as pd\n",
        "df=pd.read_csv(\"/content/train (1).csv\")"
      ],
      "metadata": {
        "id": "dcFI7zWJlZ9q"
      },
      "execution_count": null,
      "outputs": []
    },
    {
      "cell_type": "code",
      "source": [
        "import pandas as pd\n",
        "\n",
        "def data_classification(dataframe, cat_th=8):\n",
        "    \"\"\"\n",
        "    Classifies columns in a DataFrame into:\n",
        "    - Categorical columns (`cat_cols`)\n",
        "    - Numerical columns (`num_cols`)\n",
        "    - High cardinality categorical columns (`cat_but_car`)\n",
        "    - Numerical columns that behave as categorical (`num_but_cat`)\n",
        "\n",
        "    Parameters:\n",
        "    - dataframe: pd.DataFrame, the DataFrame to classify\n",
        "    - cat_th: int, threshold for unique values to consider as categorical\n",
        "\n",
        "    Returns:\n",
        "    - A dictionary with lists of columns for each category\n",
        "    \"\"\"\n",
        "    # Categorical columns (object or category type with unique values <= cat_th)\n",
        "    cat_cols = [\n",
        "        col for col in dataframe.columns\n",
        "        if dataframe[col].dtype in [\"O\", \"category\"] and dataframe[col].nunique() <= cat_th\n",
        "    ]\n",
        "\n",
        "    # Numerical columns (excluding object or category, with unique values > cat_th)\n",
        "    num_cols = [\n",
        "        col for col in dataframe.columns\n",
        "        if pd.api.types.is_numeric_dtype(dataframe[col]) and dataframe[col].nunique() > cat_th\n",
        "    ]\n",
        "\n",
        "    # High cardinality categorical columns (object or category type with unique values > cat_th)\n",
        "    cat_but_car = [\n",
        "        col for col in dataframe.columns\n",
        "        if dataframe[col].dtype in [\"O\", \"category\"] and dataframe[col].nunique() > cat_th\n",
        "    ]\n",
        "\n",
        "    # Numerical but categorical columns (numeric types with unique values <= cat_th)\n",
        "    num_but_cat = [\n",
        "        col for col in dataframe.columns\n",
        "        if pd.api.types.is_numeric_dtype(dataframe[col]) and dataframe[col].nunique() <= cat_th\n",
        "    ]\n",
        "\n",
        "    return {\n",
        "        \"cat_cols\": cat_cols,\n",
        "        \"num_cols\": num_cols,\n",
        "        \"cat_but_car\": cat_but_car,\n",
        "        \"num_but_cat\": num_but_cat\n",
        "    }\n",
        "\n",
        "# Example usage:\n",
        "# dataframe = pd.DataFrame({...})  # Define or load your DataFrame\n",
        "# classification = data_classification(dataframe)\n",
        "# print(classification)\n"
      ],
      "metadata": {
        "id": "WPvDO8QDjzh7"
      },
      "execution_count": null,
      "outputs": []
    },
    {
      "cell_type": "code",
      "source": [
        "data_classification(df)"
      ],
      "metadata": {
        "id": "LCFGH6gpqx2C"
      },
      "execution_count": null,
      "outputs": []
    },
    {
      "cell_type": "code",
      "source": [
        "df.describe().T"
      ],
      "metadata": {
        "id": "FOZN368Ygp6W"
      },
      "execution_count": null,
      "outputs": []
    },
    {
      "cell_type": "code",
      "source": [
        "df"
      ],
      "metadata": {
        "id": "E_Yu2kNX5cYF"
      },
      "execution_count": null,
      "outputs": []
    },
    {
      "cell_type": "markdown",
      "source": [
        "# Summary of the Dataset\n",
        "- The dataset consists of 956 rows and 15 columns\n",
        "- The target variable is salary\n",
        "- We have many variables with high cardinality, which means it's technically categorical but has so many labels and encoding its values can increase the\n",
        "- There are technically no missing values\n",
        "- Descriptive statistics show that some features have outliers"
      ],
      "metadata": {
        "id": "UGoGpGLT5ZLo"
      }
    },
    {
      "cell_type": "markdown",
      "source": [
        "# Data Pre-Processing"
      ],
      "metadata": {
        "id": "jU309mr42EDZ"
      }
    },
    {
      "cell_type": "markdown",
      "source": [
        "\n",
        "\n",
        "#### By looking into the scraped data we will do the following tasks.\n",
        "\n",
        "<div style=\"color: #1E90FF; display: inline-block; border-radius: 10px; background-color: #F0F8FF; font-family: 'Arial', sans-serif; overflow: hidden; border: 5px groove #1E90FF; width:50%;\">\n",
        "    <p style=\"padding: 15px; color: #1E90FF; overflow: hidden; font-size: 24px; letter-spacing: 1px; margin: 0; width: 100%;\">\n",
        "        <b> Tasks List:</b>\n",
        "    </p>\n",
        "</div>\n",
        "\n",
        "\n",
        "<div style=\"border: 2px solid #1E90FF; border-radius: 10px; margin-top: 10px; width:50%\">\n",
        "    <ol style=\"list-style-type: none; padding: 10px;\">\n",
        "        <li>1. Renaming Columns.</li>\n",
        "        <li>2. Salary Parsing.</li>\n",
        "        <li>3. Company Name text only.</li>\n",
        "        <li>4. State of Field.</li>\n",
        "        <li>5. Age of Company.</li>\n",
        "        <li>6. Parsing of job description (python, etc.)</li>\n",
        "    </ol>\n",
        "</div>\n"
      ],
      "metadata": {
        "id": "djxqlSz2iy72"
      }
    },
    {
      "cell_type": "code",
      "source": [
        "df.drop(columns=['Unnamed: 0'],inplace=True)"
      ],
      "metadata": {
        "id": "qAthxuluuSvS"
      },
      "execution_count": null,
      "outputs": []
    },
    {
      "cell_type": "code",
      "source": [
        "df[\"Job Title\"].value_counts()"
      ],
      "metadata": {
        "id": "_3XEgTJducKr"
      },
      "execution_count": null,
      "outputs": []
    },
    {
      "cell_type": "code",
      "source": [
        "df[\"Job Title\"].value_counts()"
      ],
      "metadata": {
        "id": "1KAfhXufidhD"
      },
      "execution_count": null,
      "outputs": []
    },
    {
      "cell_type": "code",
      "source": [
        "def title_simplifier(title):\n",
        "    if 'data scientist' in title.lower():\n",
        "        return 'data scientist'\n",
        "    elif 'data engineer' in title.lower():\n",
        "        return 'data engineer'\n",
        "    elif 'analyst' in title.lower():\n",
        "        return 'analyst'\n",
        "    elif 'machine learning' in title.lower():\n",
        "        return 'machine learning'\n",
        "    elif 'manager' in title.lower():\n",
        "        return 'manager'\n",
        "    elif 'director' in title.lower():\n",
        "        return 'director'\n",
        "    else:\n",
        "        return 'na'\n",
        "\n",
        "def seniority(title):\n",
        "    if 'sr' in title.lower() or 'senior' in title.lower() or 'lead' in title.lower() or 'principal' in title.lower():\n",
        "        return 'senior'\n",
        "    elif 'jr' in title.lower() or 'jr.' in title.lower():\n",
        "        return 'jr'\n",
        "    else:\n",
        "        return 'na'\n",
        "\n",
        "\n",
        "\n"
      ],
      "metadata": {
        "id": "d-stkLiri52j"
      },
      "execution_count": null,
      "outputs": []
    },
    {
      "cell_type": "code",
      "source": [
        "df['Job_Title'] = df['Job Title'].apply(title_simplifier)"
      ],
      "metadata": {
        "id": "Ek28edxJsarH"
      },
      "execution_count": null,
      "outputs": []
    },
    {
      "cell_type": "code",
      "source": [
        "df['seniority'] = df['Job Title'].apply(seniority)\n",
        "df"
      ],
      "metadata": {
        "id": "5V5WCFahsqBk"
      },
      "execution_count": null,
      "outputs": []
    },
    {
      "cell_type": "code",
      "source": [
        "import pandas as pd\n",
        "\n",
        "data = {'A': [1, 2, 3],\n",
        "        'B': [4, 5, 6],\n",
        "        'C': [7, 8, 9]}\n",
        "\n",
        "data = pd.DataFrame(data)\n",
        "display(data)\n",
        "\n",
        "row_sums = data.sum(axis=0)\n",
        "\n",
        "print(row_sums)\n"
      ],
      "metadata": {
        "id": "D5nV2_3Nyhgw"
      },
      "execution_count": null,
      "outputs": []
    },
    {
      "cell_type": "code",
      "source": [
        "np.array([False,False,False,True]).any()"
      ],
      "metadata": {
        "id": "rV8iM2Qf3qnU"
      },
      "execution_count": null,
      "outputs": []
    },
    {
      "cell_type": "code",
      "source": [
        "df.columns[(df == '-1').any() | (df == -1).any()].to_list()"
      ],
      "metadata": {
        "id": "Vr_mTrpp3f9g"
      },
      "execution_count": null,
      "outputs": []
    },
    {
      "cell_type": "code",
      "source": [
        "columns_with_minus_one = df.columns[(df == '-1').any() | (df == -1).any()].tolist()\n",
        "print(columns_with_minus_one)"
      ],
      "metadata": {
        "id": "tgUerXa3uyIi"
      },
      "execution_count": null,
      "outputs": []
    },
    {
      "cell_type": "code",
      "source": [
        "data = {'A': [1, '-1', -1, -1],\n",
        "        'B': [-1, -1, -1, 8],\n",
        "        'C': [-1, -1, '-1', -1]}\n",
        "\n",
        "data = pd.DataFrame(data)\n",
        "print(data)\n",
        "rows_all_minus_one = ((data == '-1') | (data == -1)).all(axis=1)\n",
        "print(rows_all_minus_one)\n",
        "print(data[rows_all_minus_one])\n"
      ],
      "metadata": {
        "id": "0UwcuMcCxXoz"
      },
      "execution_count": null,
      "outputs": []
    },
    {
      "cell_type": "code",
      "source": [
        "rows_all_minus_one = ((df == '-1') | (df == -1)).all(axis=1)\n",
        "display(df[rows_all_minus_one])\n"
      ],
      "metadata": {
        "id": "hxX4qGEFwtDy"
      },
      "execution_count": null,
      "outputs": []
    },
    {
      "cell_type": "code",
      "source": [
        "df[\"Rating\"].mode()"
      ],
      "metadata": {
        "id": "ypSu7rjj7XpO"
      },
      "execution_count": null,
      "outputs": []
    },
    {
      "cell_type": "code",
      "source": [
        "df[~df[\"Founded\"].isin([-1, '-1'])][\"Founded\"].mode()[0]"
      ],
      "metadata": {
        "id": "XxyUMJbKzrUV"
      },
      "execution_count": null,
      "outputs": []
    },
    {
      "cell_type": "code",
      "source": [
        "def replace_with_mode(df,columns):\n",
        "    for col in columns:\n",
        "        mode_value = df[~df[col].isin([-1, '-1'])][col].mode()[0]\n",
        "        df[col] = df[col].replace([-1, '-1'], mode_value)\n",
        "\n",
        "    return df"
      ],
      "metadata": {
        "id": "1RlpKcl20TzE"
      },
      "execution_count": null,
      "outputs": []
    },
    {
      "cell_type": "code",
      "source": [
        "replace_with_mode(df,columns_with_minus_one[1:])"
      ],
      "metadata": {
        "id": "AE8t2CDx0b6a"
      },
      "execution_count": null,
      "outputs": []
    },
    {
      "cell_type": "code",
      "source": [
        "columns_with_minus_one = df.columns[(df == '-1').any() | (df == -1).any()].tolist()\n",
        "print(columns_with_minus_one)"
      ],
      "metadata": {
        "id": "6ZpcWGmwzOwK"
      },
      "execution_count": null,
      "outputs": []
    },
    {
      "cell_type": "code",
      "source": [
        "df['Salary Estimate'].value_counts(normalize=True)"
      ],
      "metadata": {
        "id": "WCfJS5r-IJcM"
      },
      "execution_count": null,
      "outputs": []
    },
    {
      "cell_type": "markdown",
      "source": [
        "## `Removing -1 from Salary Estimate`"
      ],
      "metadata": {
        "id": "8ybfk1E51OKK"
      }
    },
    {
      "cell_type": "code",
      "source": [
        "df.shape"
      ],
      "metadata": {
        "id": "6QyW0JlbIVTW"
      },
      "execution_count": null,
      "outputs": []
    },
    {
      "cell_type": "code",
      "source": [
        "df = df[df['Salary Estimate']!= '-1']\n",
        "df.head()"
      ],
      "metadata": {
        "id": "OkNVTunujdJk"
      },
      "execution_count": null,
      "outputs": []
    },
    {
      "cell_type": "markdown",
      "source": [
        "## `Removing the glassdoor est text in the salary column:`"
      ],
      "metadata": {
        "id": "83m_wwaLjti5"
      }
    },
    {
      "cell_type": "code",
      "source": [
        "df['Salary Estimate'] = df['Salary Estimate'].apply(lambda x: x.split('(')[0])\n",
        "df.head(10)"
      ],
      "metadata": {
        "id": "JfIX3HDujqJt"
      },
      "execution_count": null,
      "outputs": []
    },
    {
      "cell_type": "markdown",
      "source": [
        "\n",
        "## `Removing the k and $ sign from the Salary Estimate:`\n",
        "\n",
        "> Removing the k and $ sign from the salary column so that\n",
        "we can predict or do analysis on numbers"
      ],
      "metadata": {
        "id": "vvubdTNwjxY3"
      }
    },
    {
      "cell_type": "code",
      "source": [
        "df['Salary Estimate'] = df['Salary Estimate'].apply(lambda x: x.replace('K','').replace('$',''))\n",
        "df.head(10)"
      ],
      "metadata": {
        "id": "EwB9pMaMju2J"
      },
      "execution_count": null,
      "outputs": []
    },
    {
      "cell_type": "markdown",
      "source": [
        "- Employer Provided Salary: This is an official figure disclosed by the company for a particular job posting. It reflects what the company intends to pay for that role and tends to be more accurate and reliable since it comes from the employer.\n",
        "\n",
        "- Glassdoor Salary Estimate: When an employer doesn’t provide salary details, Glassdoor often estimates the pay range based on employee reviews, industry averages, location, and similar roles."
      ],
      "metadata": {
        "id": "NZ4CxEdzoLK_"
      }
    },
    {
      "cell_type": "code",
      "source": [
        "df['PerHour'] = df['Salary Estimate'].str.contains('per hour', case=False)"
      ],
      "metadata": {
        "id": "AKpNpLhdlI79"
      },
      "execution_count": null,
      "outputs": []
    },
    {
      "cell_type": "code",
      "source": [
        "df['Salary Estimate'] = df['Salary Estimate'].apply(lambda x: x.lower().replace('per hour', ''))\n",
        "df['Salary Estimate'] = df['Salary Estimate'].apply(lambda x: x.lower().replace('employer provided salary:', ''))"
      ],
      "metadata": {
        "id": "HfRqi2KLkAyt"
      },
      "execution_count": null,
      "outputs": []
    },
    {
      "cell_type": "code",
      "source": [
        "df"
      ],
      "metadata": {
        "id": "RNfHORVSOPLm"
      },
      "execution_count": null,
      "outputs": []
    },
    {
      "cell_type": "markdown",
      "source": [
        "## `Splitting the Salary estimated column:`\n",
        "\n",
        "- The first will be the minimum salary.<br>\n",
        "- The second will be the Maximumn Salary.\n"
      ],
      "metadata": {
        "id": "OFYfXKpRoby9"
      }
    },
    {
      "cell_type": "code",
      "source": [
        "df['Min_Salary'] = df['Salary Estimate'].apply(lambda x: int(x.split('-')[0]))\n",
        "df['Max_Salary'] = df['Salary Estimate'].apply(lambda x: int(x.split('-')[1]))"
      ],
      "metadata": {
        "id": "QB7hBBC3oVXY"
      },
      "execution_count": null,
      "outputs": []
    },
    {
      "cell_type": "code",
      "source": [
        "df['Salary Estimate']= (df['Min_Salary'] + df['Max_Salary'])/2\n",
        "df.head()"
      ],
      "metadata": {
        "id": "Ho7khbaJoduF"
      },
      "execution_count": null,
      "outputs": []
    },
    {
      "cell_type": "code",
      "source": [
        "df[\"Salary Estimate\"]= df.apply(\n",
        "    lambda x: (x[\"Salary Estimate\"] * 40 * 52)/1000 if x[\"PerHour\"] == True else x[\"Salary Estimate\"],\n",
        "    axis=1\n",
        ")"
      ],
      "metadata": {
        "id": "0UPoizMdR2d5"
      },
      "execution_count": null,
      "outputs": []
    },
    {
      "cell_type": "code",
      "source": [
        "df[\"Salary Estimate\"]=df[\"Salary Estimate\"]*1000"
      ],
      "metadata": {
        "id": "t-7PO10zSQVT"
      },
      "execution_count": null,
      "outputs": []
    },
    {
      "cell_type": "code",
      "source": [
        "df.drop(columns=[\"Min_Salary\",\"Max_Salary\",\"PerHour\",\"Job Title\"],inplace=True)"
      ],
      "metadata": {
        "id": "3OoPn__xSWvv"
      },
      "execution_count": null,
      "outputs": []
    },
    {
      "cell_type": "code",
      "source": [
        "df.head(10)"
      ],
      "metadata": {
        "id": "0zWYDgMzTGBw"
      },
      "execution_count": null,
      "outputs": []
    },
    {
      "cell_type": "code",
      "source": [
        "df['Company Name']= df['Company Name'].apply(lambda x: x.split('\\n')[0])"
      ],
      "metadata": {
        "id": "7EDfTPTdTa5Y"
      },
      "execution_count": null,
      "outputs": []
    },
    {
      "cell_type": "code",
      "source": [
        "df.head()"
      ],
      "metadata": {
        "id": "UQ96UJZlWRRw"
      },
      "execution_count": null,
      "outputs": []
    },
    {
      "cell_type": "code",
      "source": [
        "df[\"Job Description\"]"
      ],
      "metadata": {
        "id": "8KX7pjGtWcUi"
      },
      "execution_count": null,
      "outputs": []
    },
    {
      "cell_type": "markdown",
      "source": [
        "<div style=\"color: #4CAF50; display: inline-block; border-radius: 8px; background-color: #E0FFFF; font-family: 'Arial', sans-serif; overflow: hidden; border: 5px outset pink; width:50%\">\n",
        "    <p style=\"padding: 15px; color: #4CAF50; overflow: hidden; font-size: 18px; letter-spacing: 1px; margin: 0; width: 750px;\">\n",
        "        <b> 6. Parsing the Job Description (python etc):</b>\n",
        "    </p>\n",
        "</div>\n",
        "\n",
        "<div style=\"border: 2px solid #4CAF50; border-radius: 8px; margin-top: 10px; width:40%\">\n",
        "    <ul style=\"list-style-type: none; padding: 10px;\">\n",
        "        <li>python.</li>\n",
        "        <li>R Studio.</li>\n",
        "        <li>Spark.</li>\n",
        "        <li>AWS.</li>\n",
        "        <li>Excel.</li>\n",
        "    </ul>\n",
        "</div>\n"
      ],
      "metadata": {
        "id": "T3b9L0n7rpj6"
      }
    },
    {
      "cell_type": "code",
      "source": [
        "df['Python_yn'] = df['Job Description'].apply(lambda x: 1 if 'python' in x.lower() else 0)\n",
        "df['R Studio'] = df['Job Description'].apply(lambda x: 1 if 'r studio' in x.lower() or 'r-studio' in x.lower() or 'r_studio' in x.lower() else 0)\n",
        "df['Spark'] = df['Job Description'].apply(lambda x: 1 if 'spark' in x.lower() else 0)\n",
        "df['AWS_yn'] = df['Job Description'].apply(lambda x: 1 if 'aws' in x.lower() else 0)\n",
        "df['Excel_yn'] = df['Job Description'].apply(lambda x: 1 if 'excel' in x.lower() else 0)\n",
        "df[\"SQL_yn\"] = df[\"Job Description\"].apply(lambda x: 1 if \"sql\" in x.lower() else 0)\n",
        "df[\"Tensorflow_yn\"] = df[\"Job Description\"].apply(lambda x: 1 if \"tensorflow\" in x.lower() else 0)"
      ],
      "metadata": {
        "id": "GJd-WeAzrTbj"
      },
      "execution_count": null,
      "outputs": []
    },
    {
      "cell_type": "code",
      "source": [
        "df.groupby(\"AWS_yn\")[\"Salary Estimate\"].agg(\"mean\")"
      ],
      "metadata": {
        "id": "56sZEYIZXEaR"
      },
      "execution_count": null,
      "outputs": []
    },
    {
      "cell_type": "code",
      "source": [
        "df.head()"
      ],
      "metadata": {
        "id": "WoSnlbVvYOa5"
      },
      "execution_count": null,
      "outputs": []
    },
    {
      "cell_type": "markdown",
      "source": [
        "<b>Now the Company Name column is cleaned and ready to use for EDA</b>\n",
        "\n",
        "<div style=\"color: #4CAF50; display: inline-block; border-radius: 8px; background-color: #E0FFFF; font-family: 'Arial', sans-serif; overflow: hidden; border: 5px outset pink; width:50%\">\n",
        "    <p style=\"padding: 15px; color: #4CAF50; overflow: hidden; font-size: 18px; letter-spacing: 1px; margin: 0; width: 750px;\">\n",
        "        <b> 4. State of Field Column Cleaning:</b>\n",
        "    </p>\n",
        "</div>\n",
        "\n",
        "We can create the state column from the location column"
      ],
      "metadata": {
        "id": "TIDA8Y9WqmVw"
      }
    },
    {
      "cell_type": "code",
      "source": [
        "df[\"Location\"].value_counts()"
      ],
      "metadata": {
        "id": "7BDZJKc2Y7jR"
      },
      "execution_count": null,
      "outputs": []
    },
    {
      "cell_type": "code",
      "source": [
        "# df['City'] = df[\"Location\"].apply(lambda x: x.split(',')[0])\n",
        "df['State'] = df[\"Location\"].apply(lambda x: x.split(',')[1])"
      ],
      "metadata": {
        "id": "TwKHn7nRqPd2"
      },
      "execution_count": null,
      "outputs": []
    },
    {
      "cell_type": "markdown",
      "source": [
        "### `Lets see if the location & Headquarter is same`\n"
      ],
      "metadata": {
        "id": "S7lMiLyMqz12"
      }
    },
    {
      "cell_type": "code",
      "source": [
        "df['Same State'] = df.apply(lambda x: 1 if x[\"Location\"] == x[\"Headquarters\"] else 0, axis=1)\n",
        "df.head()\n"
      ],
      "metadata": {
        "id": "SALym0VtqPtv"
      },
      "execution_count": null,
      "outputs": []
    },
    {
      "cell_type": "code",
      "source": [
        "df.drop(columns=[\"Location\"],inplace=True)"
      ],
      "metadata": {
        "id": "l35cfQIEaxq2"
      },
      "execution_count": null,
      "outputs": []
    },
    {
      "cell_type": "markdown",
      "source": [
        "<div style=\"color: #4CAF50; display: inline-block; border-radius: 8px; background-color: #E0FFFF; font-family: 'Arial', sans-serif; overflow: hidden; border: 5px outset pink; width:50%\">\n",
        "    <p style=\"padding: 15px; color: #4CAF50; overflow: hidden; font-size: 18px; letter-spacing: 1px; margin: 0; width: 750px;\">\n",
        "        <b> 5. Age of Company:</b>\n",
        "    </p>\n",
        "</div>"
      ],
      "metadata": {
        "id": "9pnHgCFCrOIC"
      }
    },
    {
      "cell_type": "code",
      "source": [
        "df['Age'] = 2024-df['Founded']\n"
      ],
      "metadata": {
        "id": "4ecoeBHuq9ev"
      },
      "execution_count": null,
      "outputs": []
    },
    {
      "cell_type": "code",
      "source": [
        "df[\"Age\"].max()"
      ],
      "metadata": {
        "id": "8XWJl0bEbl9F"
      },
      "execution_count": null,
      "outputs": []
    },
    {
      "cell_type": "code",
      "source": [
        "# job descrition length\n",
        "df['desc_len'] = df['Job Description'].apply(lambda x: len(x))"
      ],
      "metadata": {
        "id": "hd_Ym0lztMDW"
      },
      "execution_count": null,
      "outputs": []
    },
    {
      "cell_type": "markdown",
      "source": [
        "## `- Competitor Count:`\n",
        "\n"
      ],
      "metadata": {
        "id": "rbYVMxPxuL-w"
      }
    },
    {
      "cell_type": "code",
      "source": [
        "df[\"Competitors\"]"
      ],
      "metadata": {
        "id": "1JbkbuCydNFb"
      },
      "execution_count": null,
      "outputs": []
    },
    {
      "cell_type": "code",
      "source": [
        "# competitors count\n",
        "df['Num_comp'] = df['Competitors'].apply(lambda x: len(x.split(',')))"
      ],
      "metadata": {
        "id": "Ix_kpRyOuFWQ"
      },
      "execution_count": null,
      "outputs": []
    },
    {
      "cell_type": "markdown",
      "source": [
        "## `- Hourly Wage to annual`"
      ],
      "metadata": {
        "id": "RQDm9XP_vdd5"
      }
    },
    {
      "cell_type": "markdown",
      "source": [
        "> ### Now Everything is ready for EDA."
      ],
      "metadata": {
        "id": "HPduDgxKxr5t"
      }
    },
    {
      "cell_type": "markdown",
      "source": [
        "<a id='EDA'></a>\n",
        "# <p style=\"background-color:#FF6347;font-family:Verdana, sans-serif;color:#FFFFFF;font-size:90%;text-align:center;border-radius:10px;padding:10px;\"><b>4|</b> 📊 Exploratory Data Analysis 📊 </p>\n",
        "\n"
      ],
      "metadata": {
        "id": "zQWBsiLvxs9g"
      }
    },
    {
      "cell_type": "code",
      "source": [
        "sns.set(style=\"whitegrid\")\n",
        "sns.set_palette(\"viridis\")\n",
        "numerical_columns = ['Rating', 'Founded', 'Salary Estimate']\n",
        "for col in numerical_columns:\n",
        "    plt.figure(figsize=(10, 6))\n",
        "    sns.histplot(df[col], kde=True, bins=30)\n",
        "    plt.title(f'Distribution of {col}')\n",
        "    plt.show()"
      ],
      "metadata": {
        "id": "c45tXTZ06nDB"
      },
      "execution_count": null,
      "outputs": []
    },
    {
      "cell_type": "code",
      "source": [
        "def plot_top_n_categories(df, column, n=20):\n",
        "    top_n = df[column].value_counts().nlargest(n)\n",
        "    plt.figure(figsize=(12, 8))\n",
        "    sns.barplot(y=top_n.index, x=top_n.values, palette='viridis')\n",
        "    plt.title(f'Top {n} most common {column}')\n",
        "    plt.ylabel(column)\n",
        "    plt.xlabel('Count')\n",
        "    plt.show()\n",
        "\n",
        "categorical_columns = ['Job Title', 'Location', 'Headquarters', 'Type of ownership', 'Industry', 'Sector']\n",
        "for col in categorical_columns:\n",
        "    plot_top_n_categories(df, col, n=20)"
      ],
      "metadata": {
        "id": "4jS8mhZ97xeo"
      },
      "execution_count": null,
      "outputs": []
    },
    {
      "cell_type": "code",
      "source": [
        "from wordcloud import WordCloud\n",
        "def plot_wordcloud(df, column):\n",
        "    text = ' '.join(df[column].astype(str).values)\n",
        "    wordcloud = WordCloud(width=800, height=400, background_color='white').generate(text)\n",
        "    plt.figure(figsize=(10, 6))\n",
        "    plt.imshow(wordcloud)\n",
        "    plt.axis('off')\n",
        "    plt.title(f'Word Cloud of {column}')\n",
        "    plt.show()\n",
        "\n",
        "for col in categorical_columns:\n",
        "    plot_wordcloud(df, col)"
      ],
      "metadata": {
        "id": "TTRPrnPR9L4w"
      },
      "execution_count": null,
      "outputs": []
    },
    {
      "cell_type": "code",
      "source": [
        "for col in numerical_columns:\n",
        "    if col != 'Salary Estimate':\n",
        "        plt.figure(figsize=(10, 6))\n",
        "        sns.scatterplot(x=df[col], y=df['Salary Estimate'])\n",
        "        plt.title(f'Salary Estimate vs {col}')\n",
        "        plt.show()"
      ],
      "metadata": {
        "id": "KTVPZ6tO9h2t"
      },
      "execution_count": null,
      "outputs": []
    },
    {
      "cell_type": "code",
      "source": [
        "sns.pairplot(df[numerical_columns])\n",
        "plt.show()"
      ],
      "metadata": {
        "id": "bs6H_HXa9oqu"
      },
      "execution_count": null,
      "outputs": []
    },
    {
      "cell_type": "markdown",
      "source": [
        "## Checking Outliers by boxplot\n",
        "- Columns:\n",
        "\n",
        "- Salary Estimate.\n",
        "- Age.\n",
        "- desc_len.\n",
        "- Rating."
      ],
      "metadata": {
        "id": "xSLFAx4Iy5xm"
      }
    },
    {
      "cell_type": "code",
      "source": [
        "def boxplot_numeric_columns(df, columns):\n",
        "    num_cols = len(columns)\n",
        "    plt.figure(figsize=(25, 5))\n",
        "    for i, column in enumerate(columns):\n",
        "        plt.subplot(2, num_cols, i+1)\n",
        "        sns.boxplot(x=df[column])\n",
        "        plt.title(f'Box plot for {column}')"
      ],
      "metadata": {
        "id": "x8zTTeDrytxx"
      },
      "execution_count": null,
      "outputs": []
    },
    {
      "cell_type": "code",
      "source": [
        "boxplot_numeric_columns(df,['Salary Estimate', 'Age', 'desc_len', 'Rating'])"
      ],
      "metadata": {
        "id": "fJ2Q9X7tzPD1"
      },
      "execution_count": null,
      "outputs": []
    },
    {
      "cell_type": "markdown",
      "source": [
        "# Correlation between Variables\n"
      ],
      "metadata": {
        "id": "JykcJBrF0UA3"
      }
    },
    {
      "cell_type": "code",
      "source": [
        "df[['Age','Salary Estimate', 'Rating', 'desc_len']].corr()\n"
      ],
      "metadata": {
        "id": "uIEtR18vzfQJ"
      },
      "execution_count": null,
      "outputs": []
    },
    {
      "cell_type": "code",
      "source": [
        "sns.heatmap(df[['Age','Salary Estimate', 'Rating', 'desc_len']].corr(), annot=True)"
      ],
      "metadata": {
        "id": "944BnaK70Xlk"
      },
      "execution_count": null,
      "outputs": []
    },
    {
      "cell_type": "markdown",
      "source": [
        "# Second data"
      ],
      "metadata": {
        "id": "DHB3JHbq-nsj"
      }
    },
    {
      "cell_type": "code",
      "source": [
        "df2=pd.read_csv('/content/ds_salaries.csv')\n",
        "df2"
      ],
      "metadata": {
        "id": "brPwEkZR_WY3"
      },
      "execution_count": null,
      "outputs": []
    },
    {
      "cell_type": "markdown",
      "source": [
        "\n",
        "<br>\n",
        "\n",
        "# <b><span style='color:#00aee5'>|</span> Domain Knowledge</b>\n",
        "\n",
        "<br>\n",
        "\n",
        "1. **`work_year` [categorical] :** This represents the specific year in which the salary was disbursed.\n",
        "\n",
        "2. **`experience_level` [categorical] :** The level of experience a person holds in a particular job. This is a key determinant in salary calculation as typically\n",
        "\n",
        "3. **`employment_type` [categorical] :** The nature of the employment contract such as full-time, part-time, or contractual can greatly influence the salary. Full-time employees often have higher annual salaries compared to their part-time or contractual counterparts.\n",
        "\n",
        "4. **`job_title` [categorical] :** The role an individual holds within a company. Different roles have different salary scales based on the responsibilities and skills required. For example, managerial roles typically pay more than entry-level positions.\n",
        "\n",
        "5. **`salary` [numerical] :** The total gross salary paid to the individual. This is directly influenced by factors such as experience level, job title, and employment type.\n",
        "\n",
        "6. **`salary_currency` [categorical] :** The specific currency in which the salary is paid,Exchange rates could affect the value of the salary when converted into different currencies.\n",
        "\n",
        "7. **`salaryinusd` [numerical] :** The total gross salary amount converted to US dollars. This allows for a uniform comparison of salaries across different countries and currencies.\n",
        "\n",
        "8. **`employee_residence` [categorical]:** The primary country of residence of the employee,The cost of living and prevailing wage rates in the employee's country of residence can impact salary levels.\n",
        "\n",
        "9. **`remote_ratio` [ratio]:** The proportion of work done remotely. With the rise of remote work, companies may adjust salaries based on the cost of living in the employee's location and the proportion of remote work.\n",
        "\n",
        "10. **`company_location` [categorical]:**  The location of the employer's main office or the branch that holds the contract. Companies in different locations may offer different salary scales due to varying economic conditions and cost of living.\n",
        "\n",
        "11. **`company_size` [categorical]:** The median number of employees in the company during the work year. Larger companies often have structured salary scales and may offer higher salaries due to economies of scale and larger revenue streams.\n",
        "\n",
        "<br>\n"
      ],
      "metadata": {
        "id": "kWNHh5q9-1s3"
      }
    },
    {
      "cell_type": "code",
      "source": [
        "def data_info(data):\n",
        "    cols = data.columns\n",
        "    unique_val = [data[col].value_counts().head(10).index.to_numpy() for col in cols]\n",
        "    n_uniques = [data[col].nunique() for col in cols]\n",
        "    dtypes = [data[col].dtype for col in cols]\n",
        "    nulss = [data[col].isnull().sum() for col in cols]\n",
        "    dup = [data.duplicated().sum() for col in cols]\n",
        "    return pd.DataFrame({'Col': cols, 'dtype': dtypes, 'n_uniques': n_uniques, 'n_nan': nulss, 'unique_val': unique_val, 'duplicated': dup})\n"
      ],
      "metadata": {
        "id": "dSWE4U4096li"
      },
      "execution_count": null,
      "outputs": []
    },
    {
      "cell_type": "code",
      "source": [
        "data_info(df2)"
      ],
      "metadata": {
        "id": "C_oujr8B_aOO"
      },
      "execution_count": null,
      "outputs": []
    },
    {
      "cell_type": "markdown",
      "source": [
        "### <b><span style='color:#00aee5'>|</span> Categorical</b>\n",
        "\n",
        "*  Work_year\n",
        "*  experience_level\n",
        "*  employment_type\n",
        "*  job_title\n",
        "*  salary_currency\n",
        "*  employee_residence\n",
        "*  remote_ratio\n",
        "*  company_location\n",
        "*  company_size\n",
        "* salary_currency\n"
      ],
      "metadata": {
        "id": "3kXVKDOL_pYE"
      }
    },
    {
      "cell_type": "markdown",
      "source": [
        "### <b><span style='color:#00aee5'>|</span> Numerical</b>\n",
        "*  salary\n",
        "*  salary_in_usd"
      ],
      "metadata": {
        "id": "TEFOfoU4_qfF"
      }
    },
    {
      "cell_type": "markdown",
      "source": [
        "# 📊 Exploratory Data Analysis 📊"
      ],
      "metadata": {
        "id": "0pIxtggGD1F4"
      }
    },
    {
      "cell_type": "markdown",
      "source": [
        "## Numerical"
      ],
      "metadata": {
        "id": "rIE-Co8w_sr3"
      }
    },
    {
      "cell_type": "code",
      "source": [
        "import seaborn as sns\n",
        "import matplotlib.pyplot as plt\n",
        "\n",
        "sns.set(style='darkgrid')\n",
        "\n",
        "plt.figure(figsize=(10, 6))\n",
        "sns.histplot(df2['salary_in_usd'], bins=30, kde=True, color='red')\n",
        "\n",
        "plt.title('Salary in USD Distribution', fontsize=20, loc='center')\n",
        "plt.xlabel('Salary', fontsize=16)\n",
        "plt.ylabel('Count', fontsize=16)\n",
        "\n",
        "plt.show()\n"
      ],
      "metadata": {
        "id": "VDvdn0rf_hAq"
      },
      "execution_count": null,
      "outputs": []
    },
    {
      "cell_type": "code",
      "source": [
        "import seaborn as sns\n",
        "import matplotlib.pyplot as plt\n",
        "\n",
        "sns.set(style='darkgrid')\n",
        "\n",
        "plt.figure(figsize=(10, 6))\n",
        "sns.boxplot(y='salary_in_usd', data=df2, color='red')\n",
        "\n",
        "plt.title('Salary Box Plot', fontsize=20)\n",
        "plt.ylabel('Salary', fontsize=16)\n",
        "plt.xlabel('Salary', fontsize=16)\n",
        "\n",
        "plt.show()\n"
      ],
      "metadata": {
        "id": "gNMkgxt5_2F0"
      },
      "execution_count": null,
      "outputs": []
    },
    {
      "cell_type": "markdown",
      "source": [
        "Salary in USD has a **right skewed distribution**, which is a typical distribution happening in income data. This means that most people earn in the low/medium range of salaries with a few exceptions that are distributed along a large range of higher values."
      ],
      "metadata": {
        "id": "fRbyG9LvAPRQ"
      }
    },
    {
      "cell_type": "markdown",
      "source": [
        "<a id='job-titles'></a>\n",
        "# <b><div style='padding:15px;background-color:#850E35;color:white;border-radius:2px;font-size:110%;text-align: center'>Top 10 Job Titles in 2023 and 2022 and 2020</div></b>\n"
      ],
      "metadata": {
        "id": "XiqbkoxoD4Ej"
      }
    },
    {
      "cell_type": "code",
      "source": [
        "sns.set(style='darkgrid')\n",
        "\n",
        "unique_years = df2['work_year'].unique()\n",
        "\n",
        "plt.figure(figsize=(20, 20\n",
        "                ))\n",
        "\n",
        "for i, year in enumerate(unique_years, start=1):\n",
        "    top_jobs = df2[df2['work_year'] == year]['job_title'].value_counts().head(10)\n",
        "\n",
        "    jobs_df = top_jobs.reset_index()\n",
        "    jobs_df.columns = ['job_title', 'count']\n",
        "\n",
        "    plt.subplot(len(unique_years), 1, i)\n",
        "    sns.barplot(data=jobs_df, x='count', y='job_title', palette='Reds')\n",
        "\n",
        "    plt.title(f'Top 10 Job Titles in {year}', fontsize=16)\n",
        "    plt.xlabel('Counts', fontsize=14)\n",
        "    plt.ylabel('Job Titles', fontsize=14)\n",
        "\n",
        "    for index, value in enumerate(jobs_df['count']):\n",
        "        plt.text(value, index, str(value))\n",
        "\n",
        "plt.tight_layout()\n",
        "plt.show()\n"
      ],
      "metadata": {
        "id": "QCiXbUJTAfMV"
      },
      "execution_count": null,
      "outputs": []
    },
    {
      "cell_type": "markdown",
      "source": [
        "- As you can see, there are the most data engineers, followed by data scientists."
      ],
      "metadata": {
        "id": "38g27aeFHhFU"
      }
    },
    {
      "cell_type": "markdown",
      "source": [
        "<a id='experience-levels'></a>\n",
        "# <b><div style='padding:15px;background-color:#850E35;color:white;border-radius:2px;font-size:110%;text-align: center'>Experience Levels</div></b>"
      ],
      "metadata": {
        "id": "ZO5VXpBSH2LY"
      }
    },
    {
      "cell_type": "code",
      "source": [
        "df2['experience_level'].unique()"
      ],
      "metadata": {
        "id": "fx-vjmYoGY5l"
      },
      "execution_count": null,
      "outputs": []
    },
    {
      "cell_type": "markdown",
      "source": [
        "- As you can see, there are 4 unique values which are SE(Senior level/expert) , MI(medium level/intermediate) , EN (Entry level) and EX(Executive level). Lets rename these values with the `rename` method."
      ],
      "metadata": {
        "id": "KbyfKXUIH9ma"
      }
    },
    {
      "cell_type": "code",
      "source": [
        "df2['experience_level'] = df2['experience_level'].replace('EN','Entry-level/Junior')\n",
        "df2['experience_level'] = df2['experience_level'].replace('MI','Mid-level/Intermediate')\n",
        "df2['experience_level'] = df2['experience_level'].replace('SE','Senior-level/Expert')\n",
        "df2['experience_level'] = df2['experience_level'].replace('EX','Executive-level/Director')"
      ],
      "metadata": {
        "id": "q06Ida4pH3lC"
      },
      "execution_count": null,
      "outputs": []
    },
    {
      "cell_type": "code",
      "source": [
        "sns.countplot(df2[\"experience_level\"],palette=\"Reds\")\n",
        "plt.show()"
      ],
      "metadata": {
        "id": "4DHffvChH6N1"
      },
      "execution_count": null,
      "outputs": []
    },
    {
      "cell_type": "markdown",
      "source": [
        "- As you can see, the senior-level positions have the highest count, followed by mid-level and junior positions. There are fewer director-level positions compared to other levels."
      ],
      "metadata": {
        "id": "SF-kxH_SIeAf"
      }
    },
    {
      "cell_type": "markdown",
      "source": [
        "<a id='employment-types'></a>\n",
        "# <b><div style='padding:15px;background-color:#850E35;color:white;border-radius:2px;font-size:110%;text-align: center'>Employment Types</div></b>"
      ],
      "metadata": {
        "id": "kdcIAwyjI4x2"
      }
    },
    {
      "cell_type": "code",
      "source": [
        "df2['employment_type'].unique()"
      ],
      "metadata": {
        "id": "BmMg9A1TICZ3"
      },
      "execution_count": null,
      "outputs": []
    },
    {
      "cell_type": "code",
      "source": [
        "df2['employment_type'] = df2['employment_type'].replace('FT','Full-Time')\n",
        "df2['employment_type'] = df2['employment_type'].replace('PT','Part-Time')\n",
        "df2['employment_type'] = df2['employment_type'].replace('CT','Contract')\n",
        "df2['employment_type'] = df2['employment_type'].replace('FL','Freelance')"
      ],
      "metadata": {
        "id": "S2RF-Y-BI6R3"
      },
      "execution_count": null,
      "outputs": []
    },
    {
      "cell_type": "code",
      "source": [
        "employment_counts = df2['employment_type'].value_counts().reset_index()\n",
        "employment_counts.columns = ['employment_type', 'count']\n",
        "\n",
        "plt.figure(figsize=(10, 6))\n",
        "ax = sns.barplot(data=employment_counts, x='count', y='employment_type', palette='viridis')\n",
        "\n",
        "plt.title('Counts of Employment Types', fontsize=20)\n",
        "plt.xlabel('Counts', fontsize=16)\n",
        "plt.ylabel('Employment Type', fontsize=16)\n",
        "\n",
        "for index, value in enumerate(employment_counts['count']):\n",
        "    plt.text(value, index, str(value), va='center')\n",
        "\n",
        "plt.show()\n"
      ],
      "metadata": {
        "id": "ro149jcnI8cO"
      },
      "execution_count": null,
      "outputs": []
    },
    {
      "cell_type": "markdown",
      "source": [
        "- As you can see, a considerable number of people are employed here on a full-time basis. Among the full-time employees, the majority of them are senior. We observe that freelancing is less prevalent these days"
      ],
      "metadata": {
        "id": "BB87LIjXKkSP"
      }
    },
    {
      "cell_type": "markdown",
      "source": [
        "<a id='salary-job-title'></a>\n",
        "# <b><div style='padding:15px;background-color:#850E35;color:white;border-radius:2px;font-size:110%;text-align: center'>Salaries by Job Titles</div></b>"
      ],
      "metadata": {
        "id": "nO3TENPSKpKo"
      }
    },
    {
      "cell_type": "code",
      "source": [
        "job_title_salary = df2.groupby(df2['job_title'])[\"salary_in_usd\"].mean().round(0).sort_values(ascending=False).head(15).reset_index()\n",
        "job_title_salary.columns = ['job_title', 'average_salary']\n",
        "\n",
        "sns.set(style='darkgrid')\n",
        "\n",
        "plt.figure(figsize=(12, 8))\n",
        "ax = sns.barplot(data=job_title_salary, x='average_salary', y='job_title', palette='viridis')\n",
        "\n",
        "plt.title('Top 15 Job Titles by Average Salary in USD', fontsize=20)\n",
        "plt.xlabel('Average Salary (USD)', fontsize=16)\n",
        "plt.ylabel('Job Titles', fontsize=16)\n",
        "for index, value in enumerate(job_title_salary['average_salary']):\n",
        "        plt.text(value, index, str(value), va='center')\n",
        "\n",
        "plt.show()\n"
      ],
      "metadata": {
        "id": "4Rw1gzW2JBiH"
      },
      "execution_count": null,
      "outputs": []
    },
    {
      "cell_type": "markdown",
      "source": [
        "<a id='average'></a>\n",
        "# <b><div style='padding:15px;background-color:#850E35;color:white;border-radius:2px;font-size:110%;text-align: center'>Salaries by Employment Types</div></b>"
      ],
      "metadata": {
        "id": "LvOgy0o4L0x_"
      }
    },
    {
      "cell_type": "code",
      "source": [
        "avg_salaries = df2.groupby('employment_type')['salary_in_usd'].mean().round(0).sort_values(ascending = False).reset_index()\n",
        "avg_salaries.columns = ['employment_type', 'avg_salary']\n",
        "sns.barplot(data = avg_salaries, x = 'avg_salary', y = 'employment_type', palette = 'viridis')\n",
        "plt.show()"
      ],
      "metadata": {
        "id": "dOqFGWBKK9uY"
      },
      "execution_count": null,
      "outputs": []
    },
    {
      "cell_type": "markdown",
      "source": [
        "As you can see, average salaries for full-time have increased over the years. It shows that companies care about data science. The second-highest salaries on the plot belong to freelancers, which is a clear indication of the growing trend in freelance work."
      ],
      "metadata": {
        "id": "hRBr2fIMMMcQ"
      }
    },
    {
      "cell_type": "markdown",
      "source": [
        "<a id='salaries'></a>\n",
        "# <b><div style='padding:15px;background-color:#850E35;color:white;border-radius:2px;font-size:110%;text-align: center'>Salaries by Work Years</div></b>"
      ],
      "metadata": {
        "id": "fxK9iBY4MPl2"
      }
    },
    {
      "cell_type": "code",
      "source": [
        "year_based_salary=df2['salary_in_usd'].groupby(df2['work_year']).mean()\n",
        "plt.title(\"Average Salaries based on Work Year\")\n",
        "plt.xlabel('Work Year')\n",
        "plt.ylabel('Salary')\n",
        "sns.lineplot(x=['2020', '2021', '2022','2023'],y=year_based_salary)\n",
        "plt.show()"
      ],
      "metadata": {
        "id": "utlB7ZvIL_Uu"
      },
      "execution_count": null,
      "outputs": []
    },
    {
      "cell_type": "markdown",
      "source": [
        "As you can see, the average salary for data-driven jobs is increasing every year, with a particularly significant jump observed between 2021 and 2022. This trend underscores the growing demand for skilled professionals in this field."
      ],
      "metadata": {
        "id": "XzQ8QGxfMYqC"
      }
    },
    {
      "cell_type": "code",
      "source": [
        "!pip install country_converter -q\n",
        "import country_converter as coco"
      ],
      "metadata": {
        "id": "Lxt_Vz7OMjSw"
      },
      "execution_count": null,
      "outputs": []
    },
    {
      "cell_type": "markdown",
      "source": [
        "<a id='remote'></a>\n",
        "# <b><div style='padding:15px;background-color:#850E35;color:white;border-radius:2px;font-size:110%;text-align: center'>Remote Jobs Locations</div></b>"
      ],
      "metadata": {
        "id": "YP5GV_GXMbxb"
      }
    },
    {
      "cell_type": "code",
      "source": [
        "df2['company_location'] = coco.convert(df2['company_location'], to='name_short')\n",
        "df2['employee_residence'] = coco.convert(df2['employee_residence'], to='name_short')"
      ],
      "metadata": {
        "id": "RfvIr0FEMR7U"
      },
      "execution_count": null,
      "outputs": []
    },
    {
      "cell_type": "code",
      "source": [
        "rr = df2.groupby('company_location')['remote_ratio'].mean().reset_index()\n",
        "rr['company_location'] =  coco.convert(names = rr['company_location'], to = \"ISO3\")\n",
        "rr.head()"
      ],
      "metadata": {
        "id": "5i5dy5fQM6bj"
      },
      "execution_count": null,
      "outputs": []
    },
    {
      "cell_type": "code",
      "source": [
        "import plotly.express as px\n",
        "fig = px.choropleth(rr,\n",
        "                    locations = rr.company_location,\n",
        "                    color = rr.remote_ratio,\n",
        "                    labels={'company_location':'Country','remote_ratio':'Remote Jobs Ratio'})\n",
        "\n",
        "fig.update_layout(title = \"Remote Jobs Locations\")\n",
        "fig.show()"
      ],
      "metadata": {
        "id": "Pd782Z6QNaWV"
      },
      "execution_count": null,
      "outputs": []
    },
    {
      "cell_type": "markdown",
      "source": [
        "# Data Pre-Processing"
      ],
      "metadata": {
        "id": "jBlMOmfU3UaA"
      }
    },
    {
      "cell_type": "code",
      "source": [
        "def title_simplifier(title):\n",
        "    if 'data scientist' in title.lower():\n",
        "        return 'data scientist'\n",
        "    elif 'data engineer' in title.lower():\n",
        "        return 'data engineer'\n",
        "    elif 'analyst' in title.lower():\n",
        "        return 'analyst'\n",
        "    elif 'machine learning' in title.lower():\n",
        "        return 'mle'\n",
        "    elif 'manager' in title.lower():\n",
        "        return 'manager'\n",
        "    elif 'director' in title.lower():\n",
        "        return 'director'\n",
        "    else:\n",
        "        return np.nan\n",
        "\n",
        "\n"
      ],
      "metadata": {
        "id": "4F7ENbdBQkuX"
      },
      "execution_count": null,
      "outputs": []
    },
    {
      "cell_type": "code",
      "source": [
        "df2['job_title'] = df2['job_title'].apply(title_simplifier)"
      ],
      "metadata": {
        "id": "menzz5hdNjTD"
      },
      "execution_count": null,
      "outputs": []
    },
    {
      "cell_type": "code",
      "source": [
        "df2.dropna(subset=['job_title'], inplace=True)"
      ],
      "metadata": {
        "id": "MnvWi7zcQGoV"
      },
      "execution_count": null,
      "outputs": []
    },
    {
      "cell_type": "code",
      "source": [
        "def remove_categorical_outliers(data, columns, threshold):\n",
        "    for col in columns:\n",
        "        series = data[col].value_counts()\n",
        "        outliers = series[series <= threshold].index\n",
        "        print(outliers)\n",
        "        data = data[~data[col].isin(outliers)]\n",
        "    return data.reset_index(drop=True)"
      ],
      "metadata": {
        "id": "i3sNEKyORxmJ"
      },
      "execution_count": null,
      "outputs": []
    },
    {
      "cell_type": "code",
      "source": [
        "df2=remove_categorical_outliers(df2, ['employee_residence','company_location'], 11)"
      ],
      "metadata": {
        "id": "EJK2BdfsTTNr"
      },
      "execution_count": null,
      "outputs": []
    },
    {
      "cell_type": "code",
      "source": [
        "df2.drop([\"salary\",\"salary_currency\"],axis=1,inplace=True)"
      ],
      "metadata": {
        "id": "-tXiBBHXTUjQ"
      },
      "execution_count": null,
      "outputs": []
    },
    {
      "cell_type": "code",
      "source": [
        "df2"
      ],
      "metadata": {
        "id": "Fe4nZKBSTsHF"
      },
      "execution_count": null,
      "outputs": []
    },
    {
      "cell_type": "markdown",
      "source": [
        "- When scaling features, remember to scale only the input features and not the target variable. Scaling the target variable can lead to incorrect predictions and model performance."
      ],
      "metadata": {
        "id": "QT3N264kaKTy"
      }
    },
    {
      "cell_type": "code",
      "source": [
        "df2.drop_duplicates(inplace=True)"
      ],
      "metadata": {
        "id": "J9E9pY5ZWUJX"
      },
      "execution_count": null,
      "outputs": []
    },
    {
      "cell_type": "code",
      "source": [
        "X=df2.drop(\"salary_in_usd\",axis=1)\n",
        "y=df2[\"salary_in_usd\"]\n"
      ],
      "metadata": {
        "id": "aZK8aUzvUiAO"
      },
      "execution_count": null,
      "outputs": []
    },
    {
      "cell_type": "code",
      "source": [
        "from sklearn.model_selection import train_test_split\n",
        "X_train, X_test, y_train, y_test = train_test_split(X, y, test_size=0.2, random_state=42)\n",
        "print(X_train.shape)\n",
        "print(X_test.shape)\n",
        "print(y_train.shape)\n",
        "print(y_test.shape)\n"
      ],
      "metadata": {
        "id": "qqHD4bF7VxOP"
      },
      "execution_count": null,
      "outputs": []
    },
    {
      "cell_type": "code",
      "source": [
        "from sklearn.preprocessing import OrdinalEncoder\n",
        "ordinal_encoder = OrdinalEncoder(categories=[['Entry-level/Junior', \"Mid-level/Intermediate\",'Senior-level/Expert',\"Executive-level/Director\"],[\"S\",\"M\",\"L\"]])\n",
        "X_train[[\"experience_level\",\"company_size\"]] = ordinal_encoder.fit_transform(X_train[[\"experience_level\",\"company_size\"]])\n",
        "X_test[[\"experience_level\",\"company_size\"]] = ordinal_encoder.transform(X_test[[\"experience_level\",\"company_size\"]])"
      ],
      "metadata": {
        "id": "Vod6E2GgV1SF"
      },
      "execution_count": null,
      "outputs": []
    },
    {
      "cell_type": "code",
      "source": [
        "pip install category-encoders\n"
      ],
      "metadata": {
        "id": "zqDUbDfXY-jM"
      },
      "execution_count": null,
      "outputs": []
    },
    {
      "cell_type": "code",
      "source": [
        "from category_encoders import BinaryEncoder\n",
        "encoder = BinaryEncoder(cols=['employment_type', 'job_title', 'employee_residence','company_location'])\n",
        "X_train_encoded = encoder.fit_transform(X_train)\n",
        "X_test_encoded = encoder.transform(X_test)"
      ],
      "metadata": {
        "id": "34ad9N6yYZED"
      },
      "execution_count": null,
      "outputs": []
    },
    {
      "cell_type": "code",
      "source": [
        "X_train_encoded"
      ],
      "metadata": {
        "id": "wrUJHiySY_Eg"
      },
      "execution_count": null,
      "outputs": []
    }
  ]
}